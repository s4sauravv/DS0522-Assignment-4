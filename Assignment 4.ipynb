{
 "cells": [
  {
   "cell_type": "code",
   "execution_count": null,
   "id": "d97b5f37",
   "metadata": {},
   "outputs": [],
   "source": [
    "#Assignment 4\n",
    "#Student of Datatrained -Saurav\n",
    "#Student of Data Science"
   ]
  },
  {
   "cell_type": "code",
   "execution_count": 1,
   "id": "85575ef4",
   "metadata": {},
   "outputs": [],
   "source": [
    "#Loops /if\n",
    "#Loops /if\n",
    "#x=0\n",
    "##define a while loop\n",
    "#while(x <4):\n",
    "#  print(x)\n",
    "#  x = x+1#"
   ]
  },
  {
   "cell_type": "code",
   "execution_count": 2,
   "id": "3bcb73ae",
   "metadata": {},
   "outputs": [
    {
     "name": "stdout",
     "output_type": "stream",
     "text": [
      "0\n",
      "1\n",
      "2\n",
      "3\n",
      "4\n",
      "5\n",
      "6\n",
      "7\n",
      "8\n",
      "9\n",
      "10\n"
     ]
    }
   ],
   "source": [
    "x=0\n",
    "while x <=10:\n",
    "    print(x)\n",
    "    x=x+1"
   ]
  },
  {
   "cell_type": "code",
   "execution_count": 3,
   "id": "44f31b95",
   "metadata": {},
   "outputs": [],
   "source": [
    "#Task:\n",
    "#Print First 10 natural numbers using while loop"
   ]
  },
  {
   "cell_type": "code",
   "execution_count": 4,
   "id": "4685a1c1",
   "metadata": {},
   "outputs": [
    {
     "name": "stdout",
     "output_type": "stream",
     "text": [
      "0\n",
      "1\n",
      "2\n",
      "3\n",
      "4\n",
      "5\n",
      "6\n",
      "7\n",
      "8\n",
      "9\n",
      "10\n"
     ]
    }
   ],
   "source": [
    "x=0\n",
    "while x<=10:\n",
    "    print(x)\n",
    "    x=x+1"
   ]
  },
  {
   "cell_type": "code",
   "execution_count": 5,
   "id": "87bea41b",
   "metadata": {},
   "outputs": [],
   "source": [
    "## program 1: Print first 10 natural numbers\n",
    "#i = 1\n",
    "#while i <= 10:\n",
    "#    print(i)\n",
    "#    i=i+1\n"
   ]
  },
  {
   "cell_type": "code",
   "execution_count": 6,
   "id": "1a23dc34",
   "metadata": {},
   "outputs": [
    {
     "name": "stdout",
     "output_type": "stream",
     "text": [
      "1\n",
      "2\n",
      "3\n",
      "4\n",
      "5\n",
      "6\n",
      "7\n",
      "8\n",
      "9\n",
      "10\n"
     ]
    }
   ],
   "source": [
    "i=1\n",
    "while i<=10:\n",
    "    print(i)\n",
    "    i=i+1"
   ]
  },
  {
   "cell_type": "code",
   "execution_count": 7,
   "id": "e92f642d",
   "metadata": {},
   "outputs": [],
   "source": [
    "#for x in range(2,7):\n",
    "#  print(x)"
   ]
  },
  {
   "cell_type": "code",
   "execution_count": 8,
   "id": "158b92c5",
   "metadata": {},
   "outputs": [
    {
     "name": "stdout",
     "output_type": "stream",
     "text": [
      "2\n",
      "3\n",
      "4\n",
      "5\n",
      "6\n"
     ]
    }
   ],
   "source": [
    "for x in range(2,7):\n",
    "    print(x)"
   ]
  },
  {
   "cell_type": "code",
   "execution_count": 9,
   "id": "995fcd4d",
   "metadata": {},
   "outputs": [],
   "source": [
    "#Months = [\"Jan\",\"Feb\",\"Mar\",\"April\",\"May\",\"June\"]\n",
    "#for m in Months:\n",
    "#  print(m)"
   ]
  },
  {
   "cell_type": "code",
   "execution_count": 10,
   "id": "19de33d0",
   "metadata": {},
   "outputs": [],
   "source": [
    "months=[\"jan\",\"feb\",\"mar\",\"april\",\"may\",\"june\"]\n"
   ]
  },
  {
   "cell_type": "code",
   "execution_count": 11,
   "id": "09498f55",
   "metadata": {},
   "outputs": [
    {
     "name": "stdout",
     "output_type": "stream",
     "text": [
      "jan\n",
      "feb\n",
      "mar\n",
      "april\n",
      "may\n",
      "june\n"
     ]
    }
   ],
   "source": [
    "for m in months:\n",
    "    print(m)"
   ]
  },
  {
   "cell_type": "code",
   "execution_count": 12,
   "id": "4abd014d",
   "metadata": {},
   "outputs": [],
   "source": [
    "# # Measure some strings:\n",
    "#\n",
    "# words = ['cat', 'window', 'defenestrate']\n",
    "#\n",
    "#for w in words:\n",
    "#\n",
    "# print(w)\n",
    "#\n",
    "#for w in words:\n",
    "#\n",
    "# print(w, len(w))\n",
    "#"
   ]
  },
  {
   "cell_type": "code",
   "execution_count": 13,
   "id": "d56eb66c",
   "metadata": {},
   "outputs": [],
   "source": [
    "words=[\"cat\",\"windows\",\"defenestrate\"]"
   ]
  },
  {
   "cell_type": "code",
   "execution_count": 14,
   "id": "331d31a5",
   "metadata": {},
   "outputs": [
    {
     "name": "stdout",
     "output_type": "stream",
     "text": [
      "cat\n",
      "windows\n",
      "defenestrate\n"
     ]
    }
   ],
   "source": [
    "for w in words:\n",
    "    print(w)"
   ]
  },
  {
   "cell_type": "code",
   "execution_count": 15,
   "id": "e87c5665",
   "metadata": {},
   "outputs": [
    {
     "name": "stdout",
     "output_type": "stream",
     "text": [
      "cat 3\n",
      "windows 7\n",
      "defenestrate 12\n"
     ]
    }
   ],
   "source": [
    "for w in words:\n",
    "    print(w,len(w))"
   ]
  },
  {
   "cell_type": "code",
   "execution_count": 16,
   "id": "f79b2a4e",
   "metadata": {},
   "outputs": [],
   "source": [
    "#range(5, 10)\n",
    "#range(0, 10, 3)\n",
    "#list(range(9))\n"
   ]
  },
  {
   "cell_type": "code",
   "execution_count": 17,
   "id": "20f36269",
   "metadata": {},
   "outputs": [
    {
     "data": {
      "text/plain": [
       "range(5, 10)"
      ]
     },
     "execution_count": 17,
     "metadata": {},
     "output_type": "execute_result"
    }
   ],
   "source": [
    "range(5,10)\n"
   ]
  },
  {
   "cell_type": "code",
   "execution_count": 18,
   "id": "10cd28b8",
   "metadata": {},
   "outputs": [
    {
     "data": {
      "text/plain": [
       "range(0, 10, 3)"
      ]
     },
     "execution_count": 18,
     "metadata": {},
     "output_type": "execute_result"
    }
   ],
   "source": [
    "range(0,10,3)"
   ]
  },
  {
   "cell_type": "code",
   "execution_count": 19,
   "id": "842d443a",
   "metadata": {},
   "outputs": [
    {
     "data": {
      "text/plain": [
       "[0, 1, 2, 3, 4, 5, 6, 7, 8]"
      ]
     },
     "execution_count": 19,
     "metadata": {},
     "output_type": "execute_result"
    }
   ],
   "source": [
    "list(range(9))"
   ]
  },
  {
   "cell_type": "code",
   "execution_count": 20,
   "id": "918f85db",
   "metadata": {},
   "outputs": [],
   "source": [
    "#a = ['Mary', 'had', 'a', 'little', 'lamb']\n",
    "#for i in range(len(a)):\n",
    "# print(i)"
   ]
  },
  {
   "cell_type": "code",
   "execution_count": 23,
   "id": "8cb68179",
   "metadata": {},
   "outputs": [
    {
     "name": "stdout",
     "output_type": "stream",
     "text": [
      "0\n",
      "1\n",
      "2\n",
      "3\n",
      "4\n"
     ]
    }
   ],
   "source": [
    "a=[\"mary\",'had','a','little','lamb']\n",
    "for i in range(len(a)):\n",
    "    print(i)"
   ]
  },
  {
   "cell_type": "code",
   "execution_count": 24,
   "id": "d7e5c888",
   "metadata": {},
   "outputs": [],
   "source": [
    "#x=8\n",
    "#y=4\n",
    "# if(x < y):\n",
    "#  st= \"x is less than y\"\n",
    "# else:\n",
    "#  st= \"x is greater than y\"\n",
    "# print (st)"
   ]
  },
  {
   "cell_type": "code",
   "execution_count": 25,
   "id": "e25078c7",
   "metadata": {},
   "outputs": [
    {
     "name": "stdout",
     "output_type": "stream",
     "text": [
      "x is greater than y\n"
     ]
    }
   ],
   "source": [
    "x=8\n",
    "y=4\n",
    "if (x<y):\n",
    "    st=\"x is less than y\"\n",
    "else:\n",
    "    st=\"x is greater than y\"\n",
    "print(st)    \n",
    "    "
   ]
  },
  {
   "cell_type": "code",
   "execution_count": 27,
   "id": "76913cc3",
   "metadata": {},
   "outputs": [],
   "source": [
    "#x = int(input(\"Please enter an integer: \"))\n",
    "##Please enter an integer: 42\n",
    "# if x < 0:\n",
    "#... x = 0\n",
    "#... print('Negative changed to zero')\n",
    "#elif x == 0:\n",
    "#... print('Zero')\n",
    "#elif x == 1:\n",
    "#... print('Single')\n",
    "#else:\n",
    "#... print('More')"
   ]
  },
  {
   "cell_type": "code",
   "execution_count": 30,
   "id": "47b8e01f",
   "metadata": {},
   "outputs": [
    {
     "name": "stdout",
     "output_type": "stream",
     "text": [
      "Enter an integer  42\n",
      "More than one and zero \n"
     ]
    }
   ],
   "source": [
    "x=int(input(\"Enter an integer  \"))\n",
    "if x<=0:\n",
    "    print(\"Negative changer to zero \")\n",
    "elif x==0:\n",
    "    print(\"z in equal to 0 \")\n",
    "elif x==1:\n",
    "    print(\" x is eqaul to q \")\n",
    "else:\n",
    "    print(\"More than one and zero \")\n",
    "    "
   ]
  },
  {
   "cell_type": "code",
   "execution_count": 31,
   "id": "77b5858e",
   "metadata": {},
   "outputs": [],
   "source": [
    "#Task :write a program using if-elif with different country value and total values.\n",
    "#total = 100\n",
    "# #country = \"US\"\n",
    "#country = \"AU\"\n",
    "#if country == \"US\":\n",
    "#    if total <= 50:\n",
    "#        print(\"Shipping Cost is $50\")\n",
    "#elif total <= 100:\n",
    "#        print(\"Shipping Cost is $25\")\n",
    "#elif total <= 150:\n",
    "#     print(\"Shipping Costs $5\")\n",
    "#else:\n",
    "#        print(\"FREE\")\n"
   ]
  },
  {
   "cell_type": "code",
   "execution_count": 36,
   "id": "d41fa3b9",
   "metadata": {},
   "outputs": [
    {
     "name": "stdout",
     "output_type": "stream",
     "text": [
      "Shipping cost is $50\n"
     ]
    }
   ],
   "source": [
    "total=100\n",
    "country=\"AU\"\n",
    "if country ==\"US\":\n",
    "    if total <=50:\n",
    "        print(\"Shipping cost is $50\")\n",
    "elif total<=100:\n",
    "    print(\"Shipping cost is $50\")\n",
    "elif total<=150:\n",
    "    print(\"Shipping cost is $5\")\n",
    "else:\n",
    "    print(\"Shipping is free\")\n",
    "    "
   ]
  },
  {
   "cell_type": "code",
   "execution_count": 37,
   "id": "ea9db7fc",
   "metadata": {},
   "outputs": [],
   "source": [
    "#if country == \"AU\":\n",
    "#   if total <= 50:\n",
    "#     print(\"Shipping Cost is $100\")\n",
    "#else:\n",
    "#     print(\"FREE\")"
   ]
  },
  {
   "cell_type": "code",
   "execution_count": 40,
   "id": "c5f91eab",
   "metadata": {},
   "outputs": [
    {
     "name": "stdout",
     "output_type": "stream",
     "text": [
      "Your Shipping is Free\n"
     ]
    }
   ],
   "source": [
    "total=100\n",
    "country=\"AU\"\n",
    "\n",
    "if country==\"AU\":\n",
    "    if total<=50:\n",
    "        print(\"Shipping cost is $100\")\n",
    "    else:\n",
    "        print(\"Your Shipping is Free\")\n"
   ]
  },
  {
   "cell_type": "code",
   "execution_count": 41,
   "id": "8b4e8563",
   "metadata": {},
   "outputs": [],
   "source": [
    "#Task : write a program to find even or odd using for loop /range function.\n",
    "#Soln.\n",
    "#for num in range(2, 10):\n",
    "#... if num % 2 == 0:\n",
    "#... print(\"Found an even number\", num)\n",
    "#... continue\n",
    "#... print(\"Found a number\", num)"
   ]
  },
  {
   "cell_type": "code",
   "execution_count": 49,
   "id": "5b4fd86f",
   "metadata": {},
   "outputs": [
    {
     "name": "stdout",
     "output_type": "stream",
     "text": [
      "Its a even number 2\n",
      "Its a even number 4\n",
      "Its a even number 6\n",
      "Its a even number 8\n"
     ]
    }
   ],
   "source": [
    "for num in range(2,10):\n",
    "    if num%2==0:\n",
    "        print(\"Its a even number\",num)\n",
    "    else:\n",
    "        continue\n",
    "        print(\"Found a number\",num)"
   ]
  },
  {
   "cell_type": "code",
   "execution_count": 75,
   "id": "db15ea96",
   "metadata": {},
   "outputs": [],
   "source": [
    "#Task :write two different loops for break if x is even number and continue when the number is divided \n",
    "# by 5.\n",
    "##Soln.\n",
    "## use the break and continue statements\n",
    "#for x in range (10,20):\n",
    "#   if (x == 15): break\n",
    "#   #if (x % 2 == 0) : continue\n",
    "#   print(x)"
   ]
  },
  {
   "cell_type": "code",
   "execution_count": 74,
   "id": "493b3951",
   "metadata": {},
   "outputs": [
    {
     "name": "stdout",
     "output_type": "stream",
     "text": [
      "11\n",
      "13\n"
     ]
    }
   ],
   "source": [
    "for x in range(10,20):\n",
    "    if x==15:\n",
    "        break\n",
    "    elif x%2==0:\n",
    "        continue\n",
    "    print(x)    "
   ]
  },
  {
   "cell_type": "code",
   "execution_count": 76,
   "id": "663e7f80",
   "metadata": {},
   "outputs": [],
   "source": [
    "## use the break and continue statements\n",
    "#for x in range (10,20):\n",
    "#   #if (x == 15): break\n",
    "#   if (x % 5 == 0) : continue\n",
    "#   print(x)"
   ]
  },
  {
   "cell_type": "code",
   "execution_count": 80,
   "id": "361ce0f7",
   "metadata": {},
   "outputs": [
    {
     "name": "stdout",
     "output_type": "stream",
     "text": [
      "11\n",
      "12\n",
      "13\n",
      "14\n"
     ]
    }
   ],
   "source": [
    "for x in range(10,20):\n",
    "    if x==15:\n",
    "        break\n",
    "    if (x%5==0):\n",
    "        continue\n",
    "    print(x)    "
   ]
  },
  {
   "cell_type": "code",
   "execution_count": 81,
   "id": "74c0ee4f",
   "metadata": {},
   "outputs": [],
   "source": [
    "#Task:\n",
    "#Display numbers divisible by 5 from a list.Iterate the given list of numbers and print only those\n",
    "#numbers which are divisible by 5.\n",
    "#Solution:\n",
    "#num_list = [10, 20, 33, 46, 55]\n",
    "#print(\"Given list:\", num_list)\n",
    "#print('Divisible by 5:')\n",
    "#for num in num_list:\n",
    "#    if num % 5 == 0:\n",
    "#        print(num)"
   ]
  },
  {
   "cell_type": "code",
   "execution_count": 82,
   "id": "f6820023",
   "metadata": {},
   "outputs": [],
   "source": [
    "num=[10,20,33,46,55]\n"
   ]
  },
  {
   "cell_type": "code",
   "execution_count": 84,
   "id": "bc840933",
   "metadata": {},
   "outputs": [
    {
     "name": "stdout",
     "output_type": "stream",
     "text": [
      "10\n",
      "20\n",
      "55\n"
     ]
    }
   ],
   "source": [
    "for x in num:\n",
    "    if x%5==0:\n",
    "        print(x)"
   ]
  },
  {
   "cell_type": "code",
   "execution_count": 85,
   "id": "304b9ed1",
   "metadata": {},
   "outputs": [],
   "source": [
    "#Task:\n",
    "#Calculate the sum of all numbers from 1 to a given number\n",
    "#Solution:\n",
    "## s: store sum of all numbers\n",
    "#s = 0\n",
    "#n = int(input(\"Enter number \"))\n",
    "## run loop n times\n",
    "## stop: n+1 (because range never include stop number in result)\n",
    "#for i in range(1, n + 1, 1):\n",
    "#    # add current number to sum variable\n",
    "#    s =s+i\n",
    "#print(\"\\n\")\n",
    "#print(\"Sum is: \", s)"
   ]
  },
  {
   "cell_type": "code",
   "execution_count": 93,
   "id": "a189fe86",
   "metadata": {},
   "outputs": [
    {
     "name": "stdout",
     "output_type": "stream",
     "text": [
      "Enter a number5\n",
      "15 \n",
      "\n",
      "Sum is:  15\n"
     ]
    }
   ],
   "source": [
    "num=int(input(\"Enter a number\"))\n",
    "sum=0\n",
    "for i in range(1,num+1):\n",
    "    sum=sum+i\n",
    "print(sum,\"\\n\")\n",
    "print(\"Sum is: \",sum) "
   ]
  },
  {
   "cell_type": "code",
   "execution_count": 94,
   "id": "37573a87",
   "metadata": {},
   "outputs": [],
   "source": [
    "#Task:\n",
    "#Write a program to print multiplication table of a given number\n",
    "#Solution:\n",
    "#n = 2\n",
    "## stop: 11 (because range never include stop number in result)\n",
    "## run loop 10 times\n",
    "#for i in range(1, 11, 1):\n",
    "#    # 2 *i (current number)\n",
    "#    product = n * i\n",
    "#    print(product)"
   ]
  },
  {
   "cell_type": "code",
   "execution_count": 97,
   "id": "ef9781df",
   "metadata": {},
   "outputs": [
    {
     "name": "stdout",
     "output_type": "stream",
     "text": [
      "Enter a number5\n",
      "5X1=5\n",
      "5X2=10\n",
      "5X3=15\n",
      "5X4=20\n",
      "5X5=25\n",
      "5X6=30\n",
      "5X7=35\n",
      "5X8=40\n",
      "5X9=45\n",
      "5X10=50\n"
     ]
    }
   ],
   "source": [
    "n=int(input(\"Enter a number\"))\n",
    "for i in range(1,11):\n",
    "    print(f\"{n}X{i}={n*i}\")"
   ]
  },
  {
   "cell_type": "code",
   "execution_count": 98,
   "id": "2bf43177",
   "metadata": {},
   "outputs": [],
   "source": [
    "#Practice below codes for list comprehension\n",
    "#\n",
    "#vec = [-4, -2, 0, 2, 4]\n",
    "#\n",
    "# # create a new list with the values doubled\n",
    "#\n",
    "# [x*2 for x in vec]\n",
    "#\n"
   ]
  },
  {
   "cell_type": "code",
   "execution_count": 99,
   "id": "24ac0c52",
   "metadata": {},
   "outputs": [],
   "source": [
    "vec = [-4, -2, 0, 2, 4]"
   ]
  },
  {
   "cell_type": "code",
   "execution_count": 110,
   "id": "cbf4ad38",
   "metadata": {},
   "outputs": [],
   "source": [
    "sal=[x*2 for x in vec]"
   ]
  },
  {
   "cell_type": "code",
   "execution_count": 111,
   "id": "b0a199d4",
   "metadata": {},
   "outputs": [
    {
     "data": {
      "text/plain": [
       "[-8, -4, 0, 4, 8]"
      ]
     },
     "execution_count": 111,
     "metadata": {},
     "output_type": "execute_result"
    }
   ],
   "source": [
    "sal"
   ]
  },
  {
   "cell_type": "code",
   "execution_count": 112,
   "id": "cb237ebb",
   "metadata": {},
   "outputs": [],
   "source": [
    "## filter the list to exclude negative numbers\n",
    "#\n",
    "#[x for x in vec if x >= 0]\n",
    "#"
   ]
  },
  {
   "cell_type": "code",
   "execution_count": 114,
   "id": "f30ddbe8",
   "metadata": {},
   "outputs": [
    {
     "data": {
      "text/plain": [
       "[-8, -4, 0, 4, 8]"
      ]
     },
     "execution_count": 114,
     "metadata": {},
     "output_type": "execute_result"
    }
   ],
   "source": [
    "sal"
   ]
  },
  {
   "cell_type": "code",
   "execution_count": 116,
   "id": "d7babcdf",
   "metadata": {},
   "outputs": [],
   "source": [
    "pal=[kel for kel in sal if kel>=0]"
   ]
  },
  {
   "cell_type": "code",
   "execution_count": 118,
   "id": "70468fe3",
   "metadata": {},
   "outputs": [
    {
     "data": {
      "text/plain": [
       "[0, 4, 8]"
      ]
     },
     "execution_count": 118,
     "metadata": {},
     "output_type": "execute_result"
    }
   ],
   "source": [
    "pal"
   ]
  },
  {
   "cell_type": "code",
   "execution_count": 119,
   "id": "e0a25a17",
   "metadata": {},
   "outputs": [],
   "source": [
    "## apply a function to all the elements\n",
    "#[abs(x) for x in vec]"
   ]
  },
  {
   "cell_type": "code",
   "execution_count": 120,
   "id": "8845c3d3",
   "metadata": {},
   "outputs": [
    {
     "data": {
      "text/plain": [
       "[-4, -2, 0, 2, 4]"
      ]
     },
     "execution_count": 120,
     "metadata": {},
     "output_type": "execute_result"
    }
   ],
   "source": [
    "vec"
   ]
  },
  {
   "cell_type": "code",
   "execution_count": 123,
   "id": "bea3b768",
   "metadata": {},
   "outputs": [],
   "source": [
    "bel=[abs(x)for x in vec]"
   ]
  },
  {
   "cell_type": "code",
   "execution_count": 124,
   "id": "bee92114",
   "metadata": {},
   "outputs": [
    {
     "data": {
      "text/plain": [
       "[4, 2, 0, 2, 4]"
      ]
     },
     "execution_count": 124,
     "metadata": {},
     "output_type": "execute_result"
    }
   ],
   "source": [
    "bel"
   ]
  },
  {
   "cell_type": "code",
   "execution_count": 125,
   "id": "9b87b7aa",
   "metadata": {},
   "outputs": [],
   "source": [
    "# # call a method on each element\n",
    "#freshfruit = [' banana', ' loganberry ', 'passion fruit ']\n",
    "#[weapon.strip() for weapon in freshfruit]\n"
   ]
  },
  {
   "cell_type": "code",
   "execution_count": 140,
   "id": "2c9341e1",
   "metadata": {},
   "outputs": [],
   "source": [
    "fresh_fruits=[\"  Banana     \",\"Loganberry\",\"Passion Fruit\"]\n"
   ]
  },
  {
   "cell_type": "code",
   "execution_count": 141,
   "id": "25abf912",
   "metadata": {},
   "outputs": [],
   "source": [
    "fruits=[weapon.strip()for weapon in fresh_fruits]"
   ]
  },
  {
   "cell_type": "code",
   "execution_count": 142,
   "id": "630b4f93",
   "metadata": {},
   "outputs": [
    {
     "data": {
      "text/plain": [
       "['Banana', 'Loganberry', 'Passion Fruit']"
      ]
     },
     "execution_count": 142,
     "metadata": {},
     "output_type": "execute_result"
    }
   ],
   "source": [
    "fruits"
   ]
  },
  {
   "cell_type": "code",
   "execution_count": 143,
   "id": "8b5ef240",
   "metadata": {},
   "outputs": [],
   "source": [
    "## create a list of 2-tuples like (number, square)\n",
    "#[(x, x**2) for x in range(6)]\n",
    "#see the output :\n",
    "#[(0, 0), (1, 1), (2, 4), (3, 9), (4, 16), (5, 25)]"
   ]
  },
  {
   "cell_type": "code",
   "execution_count": 145,
   "id": "efa9cc50",
   "metadata": {},
   "outputs": [
    {
     "data": {
      "text/plain": [
       "[(0, 0), (1, 1), (2, 4), (3, 9), (4, 16), (5, 25)]"
      ]
     },
     "execution_count": 145,
     "metadata": {},
     "output_type": "execute_result"
    }
   ],
   "source": [
    "[(y,y**2)for y in range(6)]"
   ]
  },
  {
   "cell_type": "code",
   "execution_count": 146,
   "id": "e845579a",
   "metadata": {},
   "outputs": [],
   "source": [
    "##To loop over a sequence in sorted order, use the sorted() function which returns a new sorted\n",
    "# list while\n",
    "#leaving the source unaltered.\n",
    "#basket = ['apple', 'orange', 'apple', 'pear', 'orange', 'banana']\n",
    "#for f in sorted(set(basket)):\n",
    "#... print(f)"
   ]
  },
  {
   "cell_type": "code",
   "execution_count": 147,
   "id": "78c0529c",
   "metadata": {},
   "outputs": [],
   "source": [
    "basket = ['apple', 'orange', 'apple', 'pear', 'orange', 'banana']"
   ]
  },
  {
   "cell_type": "code",
   "execution_count": 149,
   "id": "e3bbe8f9",
   "metadata": {},
   "outputs": [
    {
     "name": "stdout",
     "output_type": "stream",
     "text": [
      "apple\n",
      "banana\n",
      "orange\n",
      "pear\n"
     ]
    }
   ],
   "source": [
    "for f in sorted(set(basket)):\n",
    "    print(f)"
   ]
  },
  {
   "cell_type": "code",
   "execution_count": 150,
   "id": "e6f6a630",
   "metadata": {},
   "outputs": [],
   "source": [
    "# #To loop over a sequence in reverse, first specify the sequence in a forward direction and then\n",
    "# call the\n",
    "# reversed() function.\n",
    "# for i in reversed(range(1, 10, 2)):\n",
    "# ... print(i)"
   ]
  },
  {
   "cell_type": "code",
   "execution_count": 152,
   "id": "0d4eec53",
   "metadata": {},
   "outputs": [
    {
     "name": "stdout",
     "output_type": "stream",
     "text": [
      "1\n",
      "3\n",
      "5\n",
      "7\n",
      "9\n"
     ]
    }
   ],
   "source": [
    "for i in range(1,10,2):\n",
    "    print(i)"
   ]
  },
  {
   "cell_type": "code",
   "execution_count": 153,
   "id": "7a09d011",
   "metadata": {},
   "outputs": [
    {
     "name": "stdout",
     "output_type": "stream",
     "text": [
      "9\n",
      "7\n",
      "5\n",
      "3\n",
      "1\n"
     ]
    }
   ],
   "source": [
    "for i in reversed(range(1,10,2)):\n",
    "    print(i)"
   ]
  },
  {
   "cell_type": "code",
   "execution_count": null,
   "id": "6d4d5b9e",
   "metadata": {},
   "outputs": [],
   "source": [
    "#Student of Datatrained - Saurav\n",
    "#Student of Data Science\n",
    "#Date-04-july-2022\n",
    "#Time-14:02"
   ]
  }
 ],
 "metadata": {
  "kernelspec": {
   "display_name": "Python 3 (ipykernel)",
   "language": "python",
   "name": "python3"
  },
  "language_info": {
   "codemirror_mode": {
    "name": "ipython",
    "version": 3
   },
   "file_extension": ".py",
   "mimetype": "text/x-python",
   "name": "python",
   "nbconvert_exporter": "python",
   "pygments_lexer": "ipython3",
   "version": "3.9.12"
  }
 },
 "nbformat": 4,
 "nbformat_minor": 5
}
